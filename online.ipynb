{
 "cells": [
  {
   "cell_type": "code",
   "execution_count": 1,
   "metadata": {},
   "outputs": [],
   "source": [
    "import numpy as np\n",
    "import sklearn as skl\n",
    "import skmultiflow as smf  # pip install scikit-multiflow\n",
    "from matplotlib import pyplot as plt\n",
    "\n",
    "from lasvm import LaSVM, KernelPerceptron, BudgetKernelPerceptron\n",
    "\n",
    "plt.style.use('seaborn-whitegrid')"
   ]
  },
  {
   "cell_type": "code",
   "execution_count": 2,
   "metadata": {},
   "outputs": [
    {
     "data": {
      "text/plain": [
       "((569, 30), (569,))"
      ]
     },
     "execution_count": 2,
     "metadata": {},
     "output_type": "execute_result"
    }
   ],
   "source": [
    "breast_cancer = skl.datasets.load_breast_cancer()\n",
    "\n",
    "x = breast_cancer['data']\n",
    "y = breast_cancer['target']\n",
    "\n",
    "x.shape, y.shape"
   ]
  },
  {
   "cell_type": "code",
   "execution_count": 3,
   "metadata": {},
   "outputs": [
    {
     "data": {
      "text/plain": [
       "((455, 30), (114, 30))"
      ]
     },
     "execution_count": 3,
     "metadata": {},
     "output_type": "execute_result"
    }
   ],
   "source": [
    "x_train, x_test, y_train, y_test = skl.model_selection.train_test_split(\n",
    "                                                x, y, test_size=0.2, shuffle=True)\n",
    "\n",
    "x_train.shape, x_test.shape"
   ]
  },
  {
   "cell_type": "markdown",
   "metadata": {},
   "source": [
    "### (Offline) SVC"
   ]
  },
  {
   "cell_type": "code",
   "execution_count": 4,
   "metadata": {},
   "outputs": [
    {
     "name": "stdout",
     "output_type": "stream",
     "text": [
      "accuracy: 0.9122807017543859\n"
     ]
    }
   ],
   "source": [
    "svc = skl.svm.SVC().fit(x_train, y_train)\n",
    "\n",
    "print('accuracy:', svc.score(x_test, y_test))"
   ]
  },
  {
   "cell_type": "markdown",
   "metadata": {},
   "source": [
    "### LaSVM"
   ]
  },
  {
   "cell_type": "code",
   "execution_count": 5,
   "metadata": {},
   "outputs": [
    {
     "name": "stdout",
     "output_type": "stream",
     "text": [
      "accuracy: 0.9210526315789473\n"
     ]
    }
   ],
   "source": [
    "pos_samples = x_train[y_train == 1][:3]\n",
    "neg_samples = x_train[y_train == 0][:3]\n",
    "\n",
    "lasvm = LaSVM(pos_samples, neg_samples).fit(x_train, y_train)\n",
    "\n",
    "print('accuracy:', lasvm.score(x_test, y_test))"
   ]
  },
  {
   "cell_type": "markdown",
   "metadata": {},
   "source": [
    "### Kernel Perceptron"
   ]
  },
  {
   "cell_type": "code",
   "execution_count": 6,
   "metadata": {},
   "outputs": [
    {
     "name": "stdout",
     "output_type": "stream",
     "text": [
      "accuracy: 0.8859649122807017\n"
     ]
    }
   ],
   "source": [
    "kp = KernelPerceptron().fit(x_train, y_train)\n",
    "\n",
    "print('accuracy:', kp.score(x_test, y_test))"
   ]
  },
  {
   "cell_type": "markdown",
   "metadata": {},
   "source": [
    "### Budget Kernel Perceptron"
   ]
  },
  {
   "cell_type": "code",
   "execution_count": 7,
   "metadata": {},
   "outputs": [
    {
     "name": "stdout",
     "output_type": "stream",
     "text": [
      "accuracy: 0.8333333333333334\n"
     ]
    }
   ],
   "source": [
    "bkp = BudgetKernelPerceptron(n=30).fit(x_train, y_train)\n",
    "\n",
    "print('accuracy:', bkp.score(x_test, y_test))"
   ]
  },
  {
   "cell_type": "markdown",
   "metadata": {},
   "source": [
    "## Streaming scenario"
   ]
  },
  {
   "cell_type": "code",
   "execution_count": 8,
   "metadata": {},
   "outputs": [],
   "source": [
    "def cummean(l: list) -> np.ndarray:\n",
    "    l = np.cumsum(l)\n",
    "    l /= np.arange(1, l.size + 1)\n",
    "    \n",
    "    return l"
   ]
  },
  {
   "cell_type": "code",
   "execution_count": 9,
   "metadata": {},
   "outputs": [
    {
     "data": {
      "image/png": "[encoded data removed]",
      "text/plain": [
       "<Figure size 432x288 with 1 Axes>"
      ]
     },
     "metadata": {},
     "output_type": "display_data"
    }
   ],
   "source": [
    "stream = smf.data.HyperplaneGenerator()\n",
    "\n",
    "nb = smf.bayes.NaiveBayes()\n",
    "\n",
    "x, y = stream.next_sample(batch_size=10)\n",
    "pos_samples = x[y == 1][:3]\n",
    "neg_samples = x[y == 0][:3]\n",
    "lasvm = LaSVM(pos_samples, neg_samples)\n",
    "\n",
    "nb_score = []\n",
    "lasvm_score = []\n",
    "\n",
    "for _ in range(500):\n",
    "    x, y = stream.next_sample()\n",
    "    nb_score.append(nb.score(x, y))\n",
    "    lasvm_score.append(lasvm.score(x, y))\n",
    "    \n",
    "    nb.partial_fit(x, y)\n",
    "    lasvm.partial_fit(x, y)\n",
    "    \n",
    "nb_score = cummean(nb_score)\n",
    "lasvm_score = cummean(lasvm_score)\n",
    "\n",
    "plt.plot(lasvm_score, label='LaSVM')\n",
    "plt.plot(nb_score, label='Naive Bayes')\n",
    "\n",
    "plt.legend()\n",
    "plt.show()"
   ]
  },
  {
   "cell_type": "code",
   "execution_count": null,
   "metadata": {},
   "outputs": [],
   "source": []
  }
 ],
 "metadata": {
  "kernelspec": {
   "display_name": "Python 3",
   "language": "python",
   "name": "python3"
  },
  "language_info": {
   "codemirror_mode": {
    "name": "ipython",
    "version": 3
   },
   "file_extension": ".py",
   "mimetype": "text/x-python",
   "name": "python",
   "nbconvert_exporter": "python",
   "pygments_lexer": "ipython3",
   "version": "3.8.10"
  }
 },
 "nbformat": 4,
 "nbformat_minor": 4
}
